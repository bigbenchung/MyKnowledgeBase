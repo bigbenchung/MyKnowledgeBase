{
 "cells": [
  {
   "cell_type": "code",
   "execution_count": 60,
   "id": "277a47a5",
   "metadata": {},
   "outputs": [
    {
     "name": "stdout",
     "output_type": "stream",
     "text": [
      "24/05/19 22:08:26 WARN SparkContext: The path /home/bigbenchung/spark-3.3.2-bin-hadoop3/jars/graphframes-0.8.2-spark3.0-s_2.12.jar has been added already. Overwriting of added paths is not supported in the current version.\n"
     ]
    }
   ],
   "source": [
    "sc.addPyFile(\"/home/bigbenchung/spark-3.3.2-bin-hadoop3/jars/graphframes-0.8.2-spark3.0-s_2.12.jar\")"
   ]
  },
  {
   "cell_type": "code",
   "execution_count": 61,
   "id": "f80c7f88",
   "metadata": {},
   "outputs": [],
   "source": [
    "from graphframes import *\n",
    "from pyspark.sql.functions import *"
   ]
  },
  {
   "cell_type": "code",
   "execution_count": 62,
   "id": "0aa5147d",
   "metadata": {
    "scrolled": false
   },
   "outputs": [
    {
     "name": "stdout",
     "output_type": "stream",
     "text": [
      "+---+-------+---+\n",
      "| id|   name|age|\n",
      "+---+-------+---+\n",
      "|  a|  Alice| 34|\n",
      "|  b|    Bob| 36|\n",
      "|  c|Charlie| 37|\n",
      "|  d|  David| 29|\n",
      "|  e| Esther| 32|\n",
      "|  f|  Fanny| 38|\n",
      "|  g|  Gabby| 60|\n",
      "+---+-------+---+\n",
      "\n",
      "+---+---+------------+\n",
      "|src|dst|relationship|\n",
      "+---+---+------------+\n",
      "|  a|  b|      friend|\n",
      "|  b|  c|      follow|\n",
      "|  c|  b|      follow|\n",
      "|  f|  c|      follow|\n",
      "|  e|  f|      follow|\n",
      "|  e|  d|      friend|\n",
      "|  d|  a|      friend|\n",
      "|  a|  e|      friend|\n",
      "|  g|  e|      follow|\n",
      "+---+---+------------+\n",
      "\n"
     ]
    }
   ],
   "source": [
    "# Vertics DataFrame\n",
    "v = spark.createDataFrame([\n",
    "  (\"a\", \"Alice\", 34),\n",
    "  (\"b\", \"Bob\", 36),\n",
    "  (\"c\", \"Charlie\", 37),\n",
    "  (\"d\", \"David\", 29),\n",
    "  (\"e\", \"Esther\", 32),\n",
    "  (\"f\", \"Fanny\", 38),\n",
    "  (\"g\", \"Gabby\", 60)\n",
    "], [\"id\", \"name\", \"age\"])\n",
    "\n",
    "# Edges DataFrame\n",
    "e = spark.createDataFrame([\n",
    "  (\"a\", \"b\", \"friend\"),\n",
    "  (\"b\", \"c\", \"follow\"),\n",
    "  (\"c\", \"b\", \"follow\"),\n",
    "  (\"f\", \"c\", \"follow\"),\n",
    "  (\"e\", \"f\", \"follow\"),\n",
    "  (\"e\", \"d\", \"friend\"),\n",
    "  (\"d\", \"a\", \"friend\"),\n",
    "  (\"a\", \"e\", \"friend\"),\n",
    "  (\"g\", \"e\", \"follow\")\n",
    "], [\"src\", \"dst\", \"relationship\"])\n",
    "\n",
    "# Create a GraphFrame\n",
    "g = GraphFrame(v, e)\n",
    "\n",
    "g.vertices.show()\n",
    "g.edges.show()"
   ]
  },
  {
   "cell_type": "code",
   "execution_count": 63,
   "id": "b448623e",
   "metadata": {},
   "outputs": [
    {
     "name": "stderr",
     "output_type": "stream",
     "text": [
      "                                                                                \r"
     ]
    }
   ],
   "source": [
    "# Starting vertex is 'a'\n",
    "layers = [g.vertices.select('id').where(\"id = 'a'\")]\n",
    "visited =  layers[0]\n",
    "\n",
    "while layers[-1].count() > 0:\n",
    "    # From the current layer, get all the one-hop neighbors\n",
    "    d1 = layers[-1].join(g.edges, layers[-1]['id'] == g.edges['src'])\n",
    "    # Rename the column as 'id', and remove visited verices and duplicates\n",
    "    d2 = d1.select(d1['dst'].alias('id')) \\\n",
    "           .subtract(visited).distinct().cache()\n",
    "    layers += [d2]\n",
    "    visited = visited.union(layers[-1]).cache()"
   ]
  },
  {
   "cell_type": "code",
   "execution_count": 64,
   "id": "e9aa6dde",
   "metadata": {},
   "outputs": [],
   "source": [
    "two_hop_neighbours = layers[1].union(layers[2]).cache()"
   ]
  },
  {
   "cell_type": "code",
   "execution_count": 65,
   "id": "d2a16848",
   "metadata": {},
   "outputs": [
    {
     "name": "stderr",
     "output_type": "stream",
     "text": [
      "                                                                                \r"
     ]
    },
    {
     "data": {
      "text/plain": [
       "[Row(id='e'), Row(id='b'), Row(id='f'), Row(id='c')]"
      ]
     },
     "execution_count": 65,
     "metadata": {},
     "output_type": "execute_result"
    }
   ],
   "source": [
    "dst_a = g.edges.filter(f\"dst = 'a'\")\n",
    "dst_a_list = dst_a.select(\"src\").rdd.flatMap(lambda x: x).collect()\n",
    "\n",
    "two_hop_neighbours.rdd.filter(lambda row: row[\"id\"] not in dst_a_list).collect()"
   ]
  },
  {
   "cell_type": "code",
   "execution_count": 66,
   "id": "8fae3eee",
   "metadata": {},
   "outputs": [
    {
     "name": "stdout",
     "output_type": "stream",
     "text": [
      "+---+---+------------+\n",
      "|src|dst|relationship|\n",
      "+---+---+------------+\n",
      "|  b|  c|      follow|\n",
      "|  f|  c|      follow|\n",
      "+---+---+------------+\n",
      "\n"
     ]
    }
   ],
   "source": [
    "g.edges.filter(\"dst = 'c' and relationship = 'follow'\").show()"
   ]
  },
  {
   "cell_type": "code",
   "execution_count": 67,
   "id": "0f511539",
   "metadata": {},
   "outputs": [
    {
     "name": "stdout",
     "output_type": "stream",
     "text": [
      "+---+-----+\n",
      "|dst|count|\n",
      "+---+-----+\n",
      "|  c|    2|\n",
      "+---+-----+\n",
      "\n"
     ]
    }
   ],
   "source": [
    "g.edges.filter(\"relationship = 'follow'\").groupBy('dst').count().filter(\"count >= 2\").show()\n",
    "\n",
    "# myInDegrees = g.edges.groupBy('dst').count()\\\n",
    "#                .withColumnRenamed('dst', 'id').withColumnRenamed('count', 'inDegree')"
   ]
  },
  {
   "cell_type": "code",
   "execution_count": 68,
   "id": "c994dad3",
   "metadata": {},
   "outputs": [],
   "source": [
    "oneway = g.find(\"(a)-[]->(b); (b)-[]->(c); !(c)-[]->(a)\")"
   ]
  },
  {
   "cell_type": "code",
   "execution_count": 69,
   "id": "1365255e",
   "metadata": {},
   "outputs": [
    {
     "name": "stdout",
     "output_type": "stream",
     "text": [
      "+----------------+----------------+----------------+\n",
      "|               a|               b|               c|\n",
      "+----------------+----------------+----------------+\n",
      "|  {a, Alice, 34}| {e, Esther, 32}|  {f, Fanny, 38}|\n",
      "|{c, Charlie, 37}|    {b, Bob, 36}|{c, Charlie, 37}|\n",
      "|  {g, Gabby, 60}| {e, Esther, 32}|  {f, Fanny, 38}|\n",
      "|  {d, David, 29}|  {a, Alice, 34}|    {b, Bob, 36}|\n",
      "| {e, Esther, 32}|  {f, Fanny, 38}|{c, Charlie, 37}|\n",
      "|  {f, Fanny, 38}|{c, Charlie, 37}|    {b, Bob, 36}|\n",
      "|    {b, Bob, 36}|{c, Charlie, 37}|    {b, Bob, 36}|\n",
      "|  {a, Alice, 34}|    {b, Bob, 36}|{c, Charlie, 37}|\n",
      "|  {g, Gabby, 60}| {e, Esther, 32}|  {d, David, 29}|\n",
      "+----------------+----------------+----------------+\n",
      "\n"
     ]
    }
   ],
   "source": [
    "oneway.show()"
   ]
  },
  {
   "cell_type": "code",
   "execution_count": 70,
   "id": "eb1e2975",
   "metadata": {},
   "outputs": [
    {
     "name": "stdout",
     "output_type": "stream",
     "text": [
      "+---+---+------------+\n",
      "|src|dst|relationship|\n",
      "+---+---+------------+\n",
      "|  a|  b|      friend|\n",
      "|  a|  e|      friend|\n",
      "+---+---+------------+\n",
      "\n"
     ]
    }
   ],
   "source": [
    "# g.vertices and g.edges are just DataFrames\n",
    "# You can use any DataFrame API on them\n",
    "\n",
    "g.edges.filter(\"src = 'a'\").show()"
   ]
  },
  {
   "cell_type": "code",
   "execution_count": 71,
   "id": "542d668a",
   "metadata": {},
   "outputs": [
    {
     "data": {
      "text/plain": [
       "2"
      ]
     },
     "execution_count": 71,
     "metadata": {},
     "output_type": "execute_result"
    }
   ],
   "source": [
    "g.edges.filter(\"src = 'a'\").count()"
   ]
  },
  {
   "cell_type": "code",
   "execution_count": 72,
   "id": "abfc1a5c",
   "metadata": {},
   "outputs": [
    {
     "name": "stdout",
     "output_type": "stream",
     "text": [
      "2\n"
     ]
    }
   ],
   "source": [
    "# Count the number of followers of c.\n",
    "# This queries the edge DataFrame.\n",
    "print(g.edges.filter(\"relationship = 'follow' and dst = 'c'\").count())"
   ]
  },
  {
   "cell_type": "code",
   "execution_count": 73,
   "id": "722e505b",
   "metadata": {},
   "outputs": [
    {
     "name": "stdout",
     "output_type": "stream",
     "text": [
      "+---+---------+\n",
      "| id|outDegree|\n",
      "+---+---------+\n",
      "|  a|        2|\n",
      "|  c|        1|\n",
      "|  b|        1|\n",
      "|  f|        1|\n",
      "|  e|        2|\n",
      "|  d|        1|\n",
      "|  g|        1|\n",
      "+---+---------+\n",
      "\n"
     ]
    }
   ],
   "source": [
    "# A GraphFrame has additional attributes\n",
    "\n",
    "g.outDegrees.show()"
   ]
  },
  {
   "cell_type": "code",
   "execution_count": 74,
   "id": "7a2cec2b",
   "metadata": {},
   "outputs": [
    {
     "name": "stdout",
     "output_type": "stream",
     "text": [
      "+---+--------+\n",
      "| id|inDegree|\n",
      "+---+--------+\n",
      "|  b|       2|\n",
      "|  c|       2|\n",
      "|  f|       1|\n",
      "|  d|       1|\n",
      "|  a|       1|\n",
      "|  e|       2|\n",
      "+---+--------+\n",
      "\n"
     ]
    }
   ],
   "source": [
    "g.inDegrees.show()"
   ]
  },
  {
   "cell_type": "code",
   "execution_count": 75,
   "id": "51ac51dd",
   "metadata": {},
   "outputs": [
    {
     "name": "stdout",
     "output_type": "stream",
     "text": [
      "== Physical Plan ==\n",
      "AdaptiveSparkPlan isFinalPlan=false\n",
      "+- HashAggregate(keys=[dst#13695], functions=[count(1)])\n",
      "   +- Exchange hashpartitioning(dst#13695, 200), ENSURE_REQUIREMENTS, [plan_id=18741]\n",
      "      +- HashAggregate(keys=[dst#13695], functions=[partial_count(1)])\n",
      "         +- Project [dst#13695]\n",
      "            +- Scan ExistingRDD[src#13694,dst#13695,relationship#13696]\n",
      "\n",
      "\n"
     ]
    }
   ],
   "source": [
    "g.inDegrees.explain()"
   ]
  },
  {
   "cell_type": "code",
   "execution_count": 76,
   "id": "8fadee4d",
   "metadata": {},
   "outputs": [
    {
     "name": "stdout",
     "output_type": "stream",
     "text": [
      "+---+--------+\n",
      "| id|inDegree|\n",
      "+---+--------+\n",
      "|  b|       2|\n",
      "|  c|       2|\n",
      "|  f|       1|\n",
      "|  d|       1|\n",
      "|  a|       1|\n",
      "|  e|       2|\n",
      "+---+--------+\n",
      "\n"
     ]
    }
   ],
   "source": [
    "myInDegrees = g.edges.groupBy('dst').count()\\\n",
    "               .withColumnRenamed('dst', 'id').withColumnRenamed('count', 'inDegree')\n",
    "myInDegrees.show()"
   ]
  },
  {
   "cell_type": "code",
   "execution_count": 77,
   "id": "69ba39db",
   "metadata": {},
   "outputs": [
    {
     "name": "stdout",
     "output_type": "stream",
     "text": [
      "== Physical Plan ==\n",
      "AdaptiveSparkPlan isFinalPlan=false\n",
      "+- HashAggregate(keys=[dst#13695], functions=[count(1)])\n",
      "   +- Exchange hashpartitioning(dst#13695, 200), ENSURE_REQUIREMENTS, [plan_id=18800]\n",
      "      +- HashAggregate(keys=[dst#13695], functions=[partial_count(1)])\n",
      "         +- Project [dst#13695]\n",
      "            +- Scan ExistingRDD[src#13694,dst#13695,relationship#13696]\n",
      "\n",
      "\n"
     ]
    }
   ],
   "source": [
    "myInDegrees.explain()"
   ]
  },
  {
   "cell_type": "code",
   "execution_count": 78,
   "id": "9f708663",
   "metadata": {},
   "outputs": [
    {
     "name": "stdout",
     "output_type": "stream",
     "text": [
      "Serialized 1x Replicated\n"
     ]
    }
   ],
   "source": [
    "print(g.inDegrees.storageLevel)"
   ]
  },
  {
   "cell_type": "code",
   "execution_count": 79,
   "id": "901b27c9",
   "metadata": {},
   "outputs": [
    {
     "data": {
      "text/plain": [
       "DataFrame[id: string, inDegree: int]"
      ]
     },
     "execution_count": 79,
     "metadata": {},
     "output_type": "execute_result"
    }
   ],
   "source": [
    "g.inDegrees.cache()"
   ]
  },
  {
   "cell_type": "code",
   "execution_count": 80,
   "id": "0eb8b086",
   "metadata": {},
   "outputs": [
    {
     "name": "stdout",
     "output_type": "stream",
     "text": [
      "Disk Memory Deserialized 1x Replicated\n"
     ]
    }
   ],
   "source": [
    "print(g.inDegrees.storageLevel)"
   ]
  },
  {
   "cell_type": "code",
   "execution_count": 81,
   "id": "8c54fd22",
   "metadata": {},
   "outputs": [
    {
     "name": "stdout",
     "output_type": "stream",
     "text": [
      "Serialized 1x Replicated\n"
     ]
    }
   ],
   "source": [
    "print(g.vertices.storageLevel)"
   ]
  },
  {
   "cell_type": "code",
   "execution_count": 82,
   "id": "e980aecf",
   "metadata": {},
   "outputs": [
    {
     "data": {
      "text/plain": [
       "GraphFrame(v:[id: string, name: string ... 1 more field], e:[src: string, dst: string ... 1 more field])"
      ]
     },
     "execution_count": 82,
     "metadata": {},
     "output_type": "execute_result"
    }
   ],
   "source": [
    "g.cache()"
   ]
  },
  {
   "cell_type": "code",
   "execution_count": 83,
   "id": "b1ff3d99",
   "metadata": {},
   "outputs": [
    {
     "name": "stdout",
     "output_type": "stream",
     "text": [
      "Disk Memory Deserialized 1x Replicated\n",
      "Disk Memory Deserialized 1x Replicated\n"
     ]
    }
   ],
   "source": [
    "print(g.vertices.storageLevel)\n",
    "print(g.edges.storageLevel)"
   ]
  },
  {
   "cell_type": "code",
   "execution_count": 84,
   "id": "97683941",
   "metadata": {},
   "outputs": [
    {
     "name": "stdout",
     "output_type": "stream",
     "text": [
      "+----------------+--------------+----------------+\n",
      "|             src|          edge|             dst|\n",
      "+----------------+--------------+----------------+\n",
      "|  {d, David, 29}|{d, a, friend}|  {a, Alice, 34}|\n",
      "|{c, Charlie, 37}|{c, b, follow}|    {b, Bob, 36}|\n",
      "|  {a, Alice, 34}|{a, b, friend}|    {b, Bob, 36}|\n",
      "|  {f, Fanny, 38}|{f, c, follow}|{c, Charlie, 37}|\n",
      "|    {b, Bob, 36}|{b, c, follow}|{c, Charlie, 37}|\n",
      "| {e, Esther, 32}|{e, d, friend}|  {d, David, 29}|\n",
      "|  {g, Gabby, 60}|{g, e, follow}| {e, Esther, 32}|\n",
      "|  {a, Alice, 34}|{a, e, friend}| {e, Esther, 32}|\n",
      "| {e, Esther, 32}|{e, f, follow}|  {f, Fanny, 38}|\n",
      "+----------------+--------------+----------------+\n",
      "\n"
     ]
    }
   ],
   "source": [
    "# A triplet view of the graph\n",
    "\n",
    "g.triplets.show()"
   ]
  },
  {
   "cell_type": "code",
   "execution_count": 85,
   "id": "b48397ec",
   "metadata": {},
   "outputs": [
    {
     "name": "stdout",
     "output_type": "stream",
     "text": [
      "== Physical Plan ==\n",
      "AdaptiveSparkPlan isFinalPlan=false\n",
      "+- Project [src#14565, edge#14563, dst#14567]\n",
      "   +- BroadcastHashJoin [edge#14563.dst], [dst#14567.id], Inner, BuildRight, false\n",
      "      :- BroadcastHashJoin [edge#14563.src], [src#14565.id], Inner, BuildRight, false\n",
      "      :  :- Project [struct(src, src#13694, dst, dst#13695, relationship, relationship#13696) AS edge#14563]\n",
      "      :  :  +- Filter (isnotnull(src#13694) AND isnotnull(dst#13695))\n",
      "      :  :     +- InMemoryTableScan [dst#13695, relationship#13696, src#13694], [isnotnull(src#13694), isnotnull(dst#13695)]\n",
      "      :  :           +- InMemoryRelation [src#13694, dst#13695, relationship#13696], StorageLevel(disk, memory, deserialized, 1 replicas)\n",
      "      :  :                 +- *(1) Scan ExistingRDD[src#13694,dst#13695,relationship#13696]\n",
      "      :  +- BroadcastExchange HashedRelationBroadcastMode(List(input[0, struct<id:string,name:string,age:bigint>, false].id),false), [plan_id=19150]\n",
      "      :     +- Project [struct(id, id#13688, name, name#13689, age, age#13690L) AS src#14565]\n",
      "      :        +- Filter isnotnull(id#13688)\n",
      "      :           +- InMemoryTableScan [age#13690L, id#13688, name#13689], [isnotnull(id#13688)]\n",
      "      :                 +- InMemoryRelation [id#13688, name#13689, age#13690L], StorageLevel(disk, memory, deserialized, 1 replicas)\n",
      "      :                       +- *(1) Scan ExistingRDD[id#13688,name#13689,age#13690L]\n",
      "      +- BroadcastExchange HashedRelationBroadcastMode(List(input[0, struct<id:string,name:string,age:bigint>, false].id),false), [plan_id=19153]\n",
      "         +- Project [struct(id, id#14577, name, name#14578, age, age#14579L) AS dst#14567]\n",
      "            +- Filter isnotnull(id#14577)\n",
      "               +- InMemoryTableScan [age#14579L, id#14577, name#14578], [isnotnull(id#14577)]\n",
      "                     +- InMemoryRelation [id#14577, name#14578, age#14579L], StorageLevel(disk, memory, deserialized, 1 replicas)\n",
      "                           +- *(1) Scan ExistingRDD[id#13688,name#13689,age#13690L]\n",
      "\n",
      "\n"
     ]
    }
   ],
   "source": [
    "g.triplets.explain()"
   ]
  },
  {
   "cell_type": "markdown",
   "id": "b88cd0bb",
   "metadata": {},
   "source": [
    "### Motif Finding"
   ]
  },
  {
   "cell_type": "code",
   "execution_count": 86,
   "id": "1fb4f54f",
   "metadata": {},
   "outputs": [
    {
     "name": "stdout",
     "output_type": "stream",
     "text": [
      "+------------+----------------+\n",
      "|           a|               b|\n",
      "+------------+----------------+\n",
      "|{b, Bob, 36}|{c, Charlie, 37}|\n",
      "+------------+----------------+\n",
      "\n"
     ]
    }
   ],
   "source": [
    "# Search for pairs of vertices with edges in both directions between them.\n",
    "motifs = g.find(\"(a)-[]->(b); (b)-[]->(a)\").filter('a.id < b.id')\n",
    "motifs.show()"
   ]
  },
  {
   "cell_type": "code",
   "execution_count": 87,
   "id": "e4d43093",
   "metadata": {},
   "outputs": [
    {
     "name": "stdout",
     "output_type": "stream",
     "text": [
      "+--------------+---------------+--------------+\n",
      "|             a|              b|             c|\n",
      "+--------------+---------------+--------------+\n",
      "|{a, Alice, 34}|{e, Esther, 32}|{d, David, 29}|\n",
      "+--------------+---------------+--------------+\n",
      "\n"
     ]
    }
   ],
   "source": [
    "# Find triangles\n",
    "\n",
    "triangles = g.find(\"(a)-[]->(b); (b)-[]->(c); (c)-[]->(a)\")\n",
    "triangles = triangles.filter(\"a.id < b.id AND a.id < c.id\")\n",
    "triangles.show()"
   ]
  },
  {
   "cell_type": "code",
   "execution_count": 88,
   "id": "17e34ec9",
   "metadata": {},
   "outputs": [
    {
     "name": "stdout",
     "output_type": "stream",
     "text": [
      "== Physical Plan ==\n",
      "AdaptiveSparkPlan isFinalPlan=false\n",
      "+- Project [a#15309, b#15311, c#15334]\n",
      "   +- BroadcastHashJoin [c#15334.id, a#15309.id], [_extract_src#16026, _extract_dst#16027], Inner, BuildRight, false\n",
      "      :- Project [a#15309, b#15311, c#15334]\n",
      "      :  +- BroadcastHashJoin [_extract_dst#16029], [c#15334.id], Inner, BuildRight, (a#15309.id < c#15334.id), false\n",
      "      :     :- Project [a#15309, b#15311, _extract_dst#16029]\n",
      "      :     :  +- BroadcastHashJoin [b#15311.id], [_extract_src#16030], Inner, BuildRight, false\n",
      "      :     :     :- Project [a#15309, b#15311]\n",
      "      :     :     :  +- BroadcastHashJoin [_extract_dst#16032], [b#15311.id], Inner, BuildRight, (a#15309.id < b#15311.id), false\n",
      "      :     :     :     :- Project [_extract_dst#16032, a#15309]\n",
      "      :     :     :     :  +- BroadcastHashJoin [_extract_src#16033], [a#15309.id], Inner, BuildLeft, false\n",
      "      :     :     :     :     :- BroadcastExchange HashedRelationBroadcastMode(List(input[1, string, true]),false), [plan_id=19904]\n",
      "      :     :     :     :     :  +- Project [dst#13695 AS _extract_dst#16032, src#13694 AS _extract_src#16033]\n",
      "      :     :     :     :     :     +- Filter (isnotnull(src#13694) AND isnotnull(dst#13695))\n",
      "      :     :     :     :     :        +- InMemoryTableScan [dst#13695, src#13694], [isnotnull(src#13694), isnotnull(dst#13695)]\n",
      "      :     :     :     :     :              +- InMemoryRelation [src#13694, dst#13695, relationship#13696], StorageLevel(disk, memory, deserialized, 1 replicas)\n",
      "      :     :     :     :     :                    +- *(1) Scan ExistingRDD[src#13694,dst#13695,relationship#13696]\n",
      "      :     :     :     :     +- Project [struct(id, id#13688, name, name#13689, age, age#13690L) AS a#15309]\n",
      "      :     :     :     :        +- Filter isnotnull(id#13688)\n",
      "      :     :     :     :           +- InMemoryTableScan [age#13690L, id#13688, name#13689], [isnotnull(id#13688)]\n",
      "      :     :     :     :                 +- InMemoryRelation [id#13688, name#13689, age#13690L], StorageLevel(disk, memory, deserialized, 1 replicas)\n",
      "      :     :     :     :                       +- *(1) Scan ExistingRDD[id#13688,name#13689,age#13690L]\n",
      "      :     :     :     +- BroadcastExchange HashedRelationBroadcastMode(List(input[0, struct<id:string,name:string,age:bigint>, false].id),false), [plan_id=19908]\n",
      "      :     :     :        +- Project [struct(id, id#15321, name, name#15322, age, age#15323L) AS b#15311]\n",
      "      :     :     :           +- Filter isnotnull(id#15321)\n",
      "      :     :     :              +- InMemoryTableScan [age#15323L, id#15321, name#15322], [isnotnull(id#15321)]\n",
      "      :     :     :                    +- InMemoryRelation [id#15321, name#15322, age#15323L], StorageLevel(disk, memory, deserialized, 1 replicas)\n",
      "      :     :     :                          +- *(1) Scan ExistingRDD[id#13688,name#13689,age#13690L]\n",
      "      :     :     +- BroadcastExchange HashedRelationBroadcastMode(List(input[1, string, true]),false), [plan_id=19912]\n",
      "      :     :        +- Project [dst#15339 AS _extract_dst#16029, src#15338 AS _extract_src#16030]\n",
      "      :     :           +- Filter (isnotnull(src#15338) AND isnotnull(dst#15339))\n",
      "      :     :              +- InMemoryTableScan [dst#15339, src#15338], [isnotnull(src#15338), isnotnull(dst#15339)]\n",
      "      :     :                    +- InMemoryRelation [src#15338, dst#15339, relationship#15340], StorageLevel(disk, memory, deserialized, 1 replicas)\n",
      "      :     :                          +- *(1) Scan ExistingRDD[src#13694,dst#13695,relationship#13696]\n",
      "      :     +- BroadcastExchange HashedRelationBroadcastMode(List(input[0, struct<id:string,name:string,age:bigint>, false].id),false), [plan_id=19916]\n",
      "      :        +- Project [struct(id, id#15349, name, name#15350, age, age#15351L) AS c#15334]\n",
      "      :           +- Filter isnotnull(id#15349)\n",
      "      :              +- InMemoryTableScan [age#15351L, id#15349, name#15350], [isnotnull(id#15349)]\n",
      "      :                    +- InMemoryRelation [id#15349, name#15350, age#15351L], StorageLevel(disk, memory, deserialized, 1 replicas)\n",
      "      :                          +- *(1) Scan ExistingRDD[id#13688,name#13689,age#13690L]\n",
      "      +- BroadcastExchange HashedRelationBroadcastMode(List(input[0, string, true], input[1, string, true]),false), [plan_id=19920]\n",
      "         +- Project [src#15369 AS _extract_src#16026, dst#15370 AS _extract_dst#16027]\n",
      "            +- Filter (isnotnull(src#15369) AND isnotnull(dst#15370))\n",
      "               +- InMemoryTableScan [dst#15370, src#15369], [isnotnull(src#15369), isnotnull(dst#15370)]\n",
      "                     +- InMemoryRelation [src#15369, dst#15370, relationship#15371], StorageLevel(disk, memory, deserialized, 1 replicas)\n",
      "                           +- *(1) Scan ExistingRDD[src#13694,dst#13695,relationship#13696]\n",
      "\n",
      "\n"
     ]
    }
   ],
   "source": [
    "triangles.explain()"
   ]
  },
  {
   "cell_type": "code",
   "execution_count": 89,
   "id": "c361a55e",
   "metadata": {},
   "outputs": [
    {
     "name": "stdout",
     "output_type": "stream",
     "text": [
      "+---------------+----------------+\n",
      "|              a|               b|\n",
      "+---------------+----------------+\n",
      "| {a, Alice, 34}| {e, Esther, 32}|\n",
      "|{e, Esther, 32}|  {d, David, 29}|\n",
      "| {a, Alice, 34}|    {b, Bob, 36}|\n",
      "| {g, Gabby, 60}| {e, Esther, 32}|\n",
      "|{e, Esther, 32}|  {f, Fanny, 38}|\n",
      "| {f, Fanny, 38}|{c, Charlie, 37}|\n",
      "| {d, David, 29}|  {a, Alice, 34}|\n",
      "+---------------+----------------+\n",
      "\n"
     ]
    }
   ],
   "source": [
    "# Negation\n",
    "oneway = g.find(\"(a)-[]->(b); !(b)-[]->(a)\")\n",
    "oneway.show()"
   ]
  },
  {
   "cell_type": "code",
   "execution_count": 90,
   "id": "f48d1f5e",
   "metadata": {},
   "outputs": [
    {
     "name": "stdout",
     "output_type": "stream",
     "text": [
      "== Physical Plan ==\n",
      "AdaptiveSparkPlan isFinalPlan=false\n",
      "+- HashAggregate(keys=[a#16126, b#16128], functions=[])\n",
      "   +- Exchange hashpartitioning(a#16126, b#16128, 200), ENSURE_REQUIREMENTS, [plan_id=20780]\n",
      "      +- HashAggregate(keys=[a#16126, b#16128], functions=[])\n",
      "         +- SortMergeJoin [coalesce(a#16126, [,,0]), isnull(a#16126), coalesce(b#16128, [,,0]), isnull(b#16128)], [coalesce(a#16175, [,,0]), isnull(a#16175), coalesce(b#16176, [,,0]), isnull(b#16176)], LeftAnti\n",
      "            :- Sort [coalesce(a#16126, [,,0]) ASC NULLS FIRST, isnull(a#16126) ASC NULLS FIRST, coalesce(b#16128, [,,0]) ASC NULLS FIRST, isnull(b#16128) ASC NULLS FIRST], false, 0\n",
      "            :  +- Exchange hashpartitioning(coalesce(a#16126, [,,0]), isnull(a#16126), coalesce(b#16128, [,,0]), isnull(b#16128), 200), ENSURE_REQUIREMENTS, [plan_id=20773]\n",
      "            :     +- Project [a#16126, b#16128]\n",
      "            :        +- BroadcastHashJoin [_extract_dst#16934], [b#16128.id], Inner, BuildRight, false\n",
      "            :           :- Project [_extract_dst#16934, a#16126]\n",
      "            :           :  +- BroadcastHashJoin [_extract_src#16935], [a#16126.id], Inner, BuildLeft, false\n",
      "            :           :     :- BroadcastExchange HashedRelationBroadcastMode(List(input[1, string, true]),false), [plan_id=20753]\n",
      "            :           :     :  +- Project [dst#13695 AS _extract_dst#16934, src#13694 AS _extract_src#16935]\n",
      "            :           :     :     +- Filter (isnotnull(src#13694) AND isnotnull(dst#13695))\n",
      "            :           :     :        +- InMemoryTableScan [dst#13695, src#13694], [isnotnull(src#13694), isnotnull(dst#13695)]\n",
      "            :           :     :              +- InMemoryRelation [src#13694, dst#13695, relationship#13696], StorageLevel(disk, memory, deserialized, 1 replicas)\n",
      "            :           :     :                    +- *(1) Scan ExistingRDD[src#13694,dst#13695,relationship#13696]\n",
      "            :           :     +- Project [struct(id, id#13688, name, name#13689, age, age#13690L) AS a#16126]\n",
      "            :           :        +- Filter isnotnull(id#13688)\n",
      "            :           :           +- InMemoryTableScan [age#13690L, id#13688, name#13689], [isnotnull(id#13688)]\n",
      "            :           :                 +- InMemoryRelation [id#13688, name#13689, age#13690L], StorageLevel(disk, memory, deserialized, 1 replicas)\n",
      "            :           :                       +- *(1) Scan ExistingRDD[id#13688,name#13689,age#13690L]\n",
      "            :           +- BroadcastExchange HashedRelationBroadcastMode(List(input[0, struct<id:string,name:string,age:bigint>, false].id),false), [plan_id=20757]\n",
      "            :              +- Project [struct(id, id#16138, name, name#16139, age, age#16140L) AS b#16128]\n",
      "            :                 +- Filter isnotnull(id#16138)\n",
      "            :                    +- InMemoryTableScan [age#16140L, id#16138, name#16139], [isnotnull(id#16138)]\n",
      "            :                          +- InMemoryRelation [id#16138, name#16139, age#16140L], StorageLevel(disk, memory, deserialized, 1 replicas)\n",
      "            :                                +- *(1) Scan ExistingRDD[id#13688,name#13689,age#13690L]\n",
      "            +- Sort [coalesce(a#16175, [,,0]) ASC NULLS FIRST, isnull(a#16175) ASC NULLS FIRST, coalesce(b#16176, [,,0]) ASC NULLS FIRST, isnull(b#16176) ASC NULLS FIRST], false, 0\n",
      "               +- Exchange hashpartitioning(coalesce(a#16175, [,,0]), isnull(a#16175), coalesce(b#16176, [,,0]), isnull(b#16176), 200), ENSURE_REQUIREMENTS, [plan_id=20774]\n",
      "                  +- Project [a#16175, b#16176]\n",
      "                     +- BroadcastHashJoin [b#16176.id, a#16175.id], [_extract_src#16936, _extract_dst#16937], Inner, BuildRight, false\n",
      "                        :- Project [a#16175, b#16176]\n",
      "                        :  +- BroadcastHashJoin [_extract_dst#16939], [b#16176.id], Inner, BuildRight, false\n",
      "                        :     :- Project [_extract_dst#16939, a#16175]\n",
      "                        :     :  +- BroadcastHashJoin [_extract_src#16940], [a#16175.id], Inner, BuildLeft, false\n",
      "                        :     :     :- BroadcastExchange HashedRelationBroadcastMode(List(input[1, string, true]),false), [plan_id=20760]\n",
      "                        :     :     :  +- Project [dst#16167 AS _extract_dst#16939, src#16166 AS _extract_src#16940]\n",
      "                        :     :     :     +- Filter (isnotnull(src#16166) AND isnotnull(dst#16167))\n",
      "                        :     :     :        +- InMemoryTableScan [dst#16167, src#16166], [isnotnull(src#16166), isnotnull(dst#16167)]\n",
      "                        :     :     :              +- InMemoryRelation [src#16166, dst#16167, relationship#16168], StorageLevel(disk, memory, deserialized, 1 replicas)\n",
      "                        :     :     :                    +- *(1) Scan ExistingRDD[src#13694,dst#13695,relationship#13696]\n",
      "                        :     :     +- Project [struct(id, id#16169, name, name#16170, age, age#16171L) AS a#16175]\n",
      "                        :     :        +- Filter isnotnull(id#16169)\n",
      "                        :     :           +- InMemoryTableScan [age#16171L, id#16169, name#16170], [isnotnull(id#16169)]\n",
      "                        :     :                 +- InMemoryRelation [id#16169, name#16170, age#16171L], StorageLevel(disk, memory, deserialized, 1 replicas)\n",
      "                        :     :                       +- *(1) Scan ExistingRDD[id#13688,name#13689,age#13690L]\n",
      "                        :     +- BroadcastExchange HashedRelationBroadcastMode(List(input[0, struct<id:string,name:string,age:bigint>, false].id),false), [plan_id=20764]\n",
      "                        :        +- Project [struct(id, id#16172, name, name#16173, age, age#16174L) AS b#16176]\n",
      "                        :           +- Filter isnotnull(id#16172)\n",
      "                        :              +- InMemoryTableScan [age#16174L, id#16172, name#16173], [isnotnull(id#16172)]\n",
      "                        :                    +- InMemoryRelation [id#16172, name#16173, age#16174L], StorageLevel(disk, memory, deserialized, 1 replicas)\n",
      "                        :                          +- *(1) Scan ExistingRDD[id#13688,name#13689,age#13690L]\n",
      "                        +- BroadcastExchange HashedRelationBroadcastMode(List(input[0, string, true], input[1, string, true]),false), [plan_id=20768]\n",
      "                           +- Project [src#16155 AS _extract_src#16936, dst#16156 AS _extract_dst#16937]\n",
      "                              +- Filter (isnotnull(src#16155) AND isnotnull(dst#16156))\n",
      "                                 +- InMemoryTableScan [dst#16156, src#16155], [isnotnull(src#16155), isnotnull(dst#16156)]\n",
      "                                       +- InMemoryRelation [src#16155, dst#16156, relationship#16157], StorageLevel(disk, memory, deserialized, 1 replicas)\n",
      "                                             +- *(1) Scan ExistingRDD[src#13694,dst#13695,relationship#13696]\n",
      "\n",
      "\n"
     ]
    }
   ],
   "source": [
    "oneway.explain()"
   ]
  },
  {
   "cell_type": "code",
   "execution_count": 91,
   "id": "7df7a1e5",
   "metadata": {},
   "outputs": [
    {
     "name": "stdout",
     "output_type": "stream",
     "text": [
      "+----------------+----------------+----------------+\n",
      "|               a|               b|               c|\n",
      "+----------------+----------------+----------------+\n",
      "|  {a, Alice, 34}| {e, Esther, 32}|  {f, Fanny, 38}|\n",
      "|{c, Charlie, 37}|    {b, Bob, 36}|{c, Charlie, 37}|\n",
      "|  {g, Gabby, 60}| {e, Esther, 32}|  {f, Fanny, 38}|\n",
      "|  {d, David, 29}|  {a, Alice, 34}|    {b, Bob, 36}|\n",
      "| {e, Esther, 32}|  {f, Fanny, 38}|{c, Charlie, 37}|\n",
      "|  {f, Fanny, 38}|{c, Charlie, 37}|    {b, Bob, 36}|\n",
      "|    {b, Bob, 36}|{c, Charlie, 37}|    {b, Bob, 36}|\n",
      "|  {a, Alice, 34}|    {b, Bob, 36}|{c, Charlie, 37}|\n",
      "|  {g, Gabby, 60}| {e, Esther, 32}|  {d, David, 29}|\n",
      "+----------------+----------------+----------------+\n",
      "\n"
     ]
    }
   ],
   "source": [
    "# Negation\n",
    "oneway = g.find(\"(a)-[]->(b); (b)-[]->(c); !(c)-[]->(a)\")\n",
    "oneway.show()"
   ]
  },
  {
   "cell_type": "code",
   "execution_count": 92,
   "id": "cc92826a",
   "metadata": {},
   "outputs": [
    {
     "name": "stdout",
     "output_type": "stream",
     "text": [
      "+--------------+\n",
      "|             a|\n",
      "+--------------+\n",
      "|{g, Gabby, 60}|\n",
      "+--------------+\n",
      "\n"
     ]
    }
   ],
   "source": [
    "# Find vertices without incoming edges:\n",
    "single = g.find(\"!()-[]->(a)\")\n",
    "single.show()"
   ]
  },
  {
   "cell_type": "code",
   "execution_count": 93,
   "id": "184ee663",
   "metadata": {},
   "outputs": [
    {
     "name": "stdout",
     "output_type": "stream",
     "text": [
      "+------------+--------------+----------------+\n",
      "|           a|             e|               b|\n",
      "+------------+--------------+----------------+\n",
      "|{b, Bob, 36}|{b, c, follow}|{c, Charlie, 37}|\n",
      "+------------+--------------+----------------+\n",
      "\n"
     ]
    }
   ],
   "source": [
    "# More meaningful queries can be expressed by applying filters.\n",
    "# Question: where is this filter applied?\n",
    "\n",
    "g.find(\"(a)-[e]->(b); (b)-[]->(a)\").filter(\"b.age > 36\").show()"
   ]
  },
  {
   "cell_type": "code",
   "execution_count": 94,
   "id": "d453fd84",
   "metadata": {},
   "outputs": [
    {
     "name": "stdout",
     "output_type": "stream",
     "text": [
      "== Physical Plan ==\n",
      "AdaptiveSparkPlan isFinalPlan=false\n",
      "+- Project [a#18595, b#18597]\n",
      "   +- BroadcastHashJoin [b#18597.id, a#18595.id], [_extract_src#18758, _extract_dst#18759], Inner, BuildRight, false\n",
      "      :- Project [a#18595, b#18597]\n",
      "      :  +- BroadcastHashJoin [_extract_dst#18761], [b#18597.id], Inner, BuildRight, false\n",
      "      :     :- Project [_extract_dst#18761, a#18595]\n",
      "      :     :  +- BroadcastHashJoin [_extract_src#18762], [a#18595.id], Inner, BuildLeft, false\n",
      "      :     :     :- BroadcastExchange HashedRelationBroadcastMode(List(input[1, string, true]),false), [plan_id=22520]\n",
      "      :     :     :  +- Project [dst#13695 AS _extract_dst#18761, src#13694 AS _extract_src#18762]\n",
      "      :     :     :     +- Filter (isnotnull(src#13694) AND isnotnull(dst#13695))\n",
      "      :     :     :        +- InMemoryTableScan [dst#13695, src#13694], [isnotnull(src#13694), isnotnull(dst#13695)]\n",
      "      :     :     :              +- InMemoryRelation [src#13694, dst#13695, relationship#13696], StorageLevel(disk, memory, deserialized, 1 replicas)\n",
      "      :     :     :                    +- *(1) Scan ExistingRDD[src#13694,dst#13695,relationship#13696]\n",
      "      :     :     +- Project [struct(id, id#13688, name, name#13689, age, age#13690L) AS a#18595]\n",
      "      :     :        +- Filter isnotnull(id#13688)\n",
      "      :     :           +- InMemoryTableScan [age#13690L, id#13688, name#13689], [isnotnull(id#13688)]\n",
      "      :     :                 +- InMemoryRelation [id#13688, name#13689, age#13690L], StorageLevel(disk, memory, deserialized, 1 replicas)\n",
      "      :     :                       +- *(1) Scan ExistingRDD[id#13688,name#13689,age#13690L]\n",
      "      :     +- BroadcastExchange HashedRelationBroadcastMode(List(input[0, struct<id:string,name:string,age:bigint>, false].id),false), [plan_id=22524]\n",
      "      :        +- Project [struct(id, id#18607, name, name#18608, age, age#18609L) AS b#18597]\n",
      "      :           +- Filter ((isnotnull(age#18609L) AND (age#18609L > 36)) AND isnotnull(id#18607))\n",
      "      :              +- InMemoryTableScan [age#18609L, id#18607, name#18608], [isnotnull(age#18609L), (age#18609L > 36), isnotnull(id#18607)]\n",
      "      :                    +- InMemoryRelation [id#18607, name#18608, age#18609L], StorageLevel(disk, memory, deserialized, 1 replicas)\n",
      "      :                          +- *(1) Scan ExistingRDD[id#13688,name#13689,age#13690L]\n",
      "      +- BroadcastExchange HashedRelationBroadcastMode(List(input[0, string, true], input[1, string, true]),false), [plan_id=22528]\n",
      "         +- Project [src#18624 AS _extract_src#18758, dst#18625 AS _extract_dst#18759]\n",
      "            +- Filter (isnotnull(src#18624) AND isnotnull(dst#18625))\n",
      "               +- InMemoryTableScan [dst#18625, src#18624], [isnotnull(src#18624), isnotnull(dst#18625)]\n",
      "                     +- InMemoryRelation [src#18624, dst#18625, relationship#18626], StorageLevel(disk, memory, deserialized, 1 replicas)\n",
      "                           +- *(1) Scan ExistingRDD[src#13694,dst#13695,relationship#13696]\n",
      "\n",
      "\n"
     ]
    }
   ],
   "source": [
    "g.find(\"(a)-[]->(b); (b)-[]->(a)\").filter(\"b.age > 36\").explain()"
   ]
  },
  {
   "cell_type": "code",
   "execution_count": 95,
   "id": "0626eeeb",
   "metadata": {},
   "outputs": [
    {
     "name": "stdout",
     "output_type": "stream",
     "text": [
      "+---------------+--------------+---------------+--------------+----------------+--------------+----------------+\n",
      "|              a|            e1|              b|            e2|               c|            e3|               d|\n",
      "+---------------+--------------+---------------+--------------+----------------+--------------+----------------+\n",
      "|{e, Esther, 32}|{e, f, follow}| {f, Fanny, 38}|{f, c, follow}|{c, Charlie, 37}|{c, b, follow}|    {b, Bob, 36}|\n",
      "|{e, Esther, 32}|{e, d, friend}| {d, David, 29}|{d, a, friend}|  {a, Alice, 34}|{a, b, friend}|    {b, Bob, 36}|\n",
      "| {d, David, 29}|{d, a, friend}| {a, Alice, 34}|{a, e, friend}| {e, Esther, 32}|{e, f, follow}|  {f, Fanny, 38}|\n",
      "| {d, David, 29}|{d, a, friend}| {a, Alice, 34}|{a, b, friend}|    {b, Bob, 36}|{b, c, follow}|{c, Charlie, 37}|\n",
      "| {a, Alice, 34}|{a, e, friend}|{e, Esther, 32}|{e, f, follow}|  {f, Fanny, 38}|{f, c, follow}|{c, Charlie, 37}|\n",
      "| {g, Gabby, 60}|{g, e, follow}|{e, Esther, 32}|{e, d, friend}|  {d, David, 29}|{d, a, friend}|  {a, Alice, 34}|\n",
      "| {g, Gabby, 60}|{g, e, follow}|{e, Esther, 32}|{e, f, follow}|  {f, Fanny, 38}|{f, c, follow}|{c, Charlie, 37}|\n",
      "+---------------+--------------+---------------+--------------+----------------+--------------+----------------+\n",
      "\n",
      "+---------------+---------------+---------------+----------------+\n",
      "|              a|              b|              c|               d|\n",
      "+---------------+---------------+---------------+----------------+\n",
      "|{e, Esther, 32}| {d, David, 29}| {a, Alice, 34}|    {b, Bob, 36}|\n",
      "| {d, David, 29}| {a, Alice, 34}|{e, Esther, 32}|  {f, Fanny, 38}|\n",
      "| {d, David, 29}| {a, Alice, 34}|   {b, Bob, 36}|{c, Charlie, 37}|\n",
      "| {g, Gabby, 60}|{e, Esther, 32}| {d, David, 29}|  {a, Alice, 34}|\n",
      "+---------------+---------------+---------------+----------------+\n",
      "\n"
     ]
    }
   ],
   "source": [
    "# Find chains of 4 vertices such that at least 2 of the 3 edges are \"friend\" relationships.\n",
    "# The when function is similar to the CASE WHEN in SQL\n",
    "\n",
    "chain4 = g.find(\"(a)-[e1]->(b); (b)-[e2]->(c); (c)-[e3]->(d)\").where('a!=d AND a!=c AND b!=d')\n",
    "chain4.show()\n",
    "\n",
    "friendTo1 = lambda e: when(e['relationship'] == 'friend', 1).otherwise(0)\n",
    "\n",
    "chain4.select('*',friendTo1(chain4['e1']).alias('f1'), \\\n",
    "                  friendTo1(chain4['e2']).alias('f2'), \\\n",
    "                  friendTo1(chain4['e3']).alias('f3')) \\\n",
    "      .where('f1 + f2 + f3 >= 2').select('a', 'b', 'c', 'd').show()"
   ]
  },
  {
   "cell_type": "code",
   "execution_count": 96,
   "id": "731d4804",
   "metadata": {},
   "outputs": [
    {
     "name": "stdout",
     "output_type": "stream",
     "text": [
      "+-----+\n",
      "| name|\n",
      "+-----+\n",
      "|  Bob|\n",
      "|Fanny|\n",
      "+-----+\n",
      "\n"
     ]
    }
   ],
   "source": [
    "# Find all people who follow Charlie\n",
    "g.find(\"(a)-[e]->(b)\").filter(\"e.relationship = 'follow' AND b.name = 'Charlie'\").select('a.name').show()"
   ]
  },
  {
   "cell_type": "code",
   "execution_count": 97,
   "id": "c6d08900",
   "metadata": {},
   "outputs": [
    {
     "name": "stdout",
     "output_type": "stream",
     "text": [
      "+-------+\n",
      "|   name|\n",
      "+-------+\n",
      "|Charlie|\n",
      "|  David|\n",
      "|  Fanny|\n",
      "+-------+\n",
      "\n"
     ]
    }
   ],
   "source": [
    "# Find Alice's two-hop neighbors' names, regardless of the edge type\n",
    "g.find('(a)-[]->(b); (b)-[]->(c)').filter('a.name=\"Alice\"').select('c.name').show()"
   ]
  },
  {
   "cell_type": "code",
   "execution_count": 98,
   "id": "0be27e87",
   "metadata": {},
   "outputs": [
    {
     "name": "stdout",
     "output_type": "stream",
     "text": [
      "+-------+\n",
      "|   name|\n",
      "+-------+\n",
      "|  Fanny|\n",
      "|Charlie|\n",
      "+-------+\n",
      "\n"
     ]
    }
   ],
   "source": [
    "# Alice's two-hop neighbors excluding those who have an edge back to Alice.\n",
    "g.find('(a)-[]->(b); (b)-[]->(c); !(c)-[]->(a)').filter('a.name=\"Alice\"').select('c.name').show()"
   ]
  },
  {
   "cell_type": "code",
   "execution_count": 99,
   "id": "dda8a814",
   "metadata": {},
   "outputs": [
    {
     "name": "stdout",
     "output_type": "stream",
     "text": [
      "+-------+\n",
      "|   name|\n",
      "+-------+\n",
      "|Charlie|\n",
      "+-------+\n",
      "\n"
     ]
    }
   ],
   "source": [
    "# all people who are being followed by at least 2 people\n",
    "g.find('()-[e]->(a)').filter('e.relationship=\"follow\"').groupBy('a').count().filter('count>=2').select('a.name').show()"
   ]
  },
  {
   "cell_type": "markdown",
   "id": "2cde322a",
   "metadata": {},
   "source": [
    "### Subgraphs"
   ]
  },
  {
   "cell_type": "code",
   "execution_count": 100,
   "id": "b21f532f",
   "metadata": {
    "scrolled": true
   },
   "outputs": [
    {
     "name": "stdout",
     "output_type": "stream",
     "text": [
      "+---+------+---+\n",
      "| id|  name|age|\n",
      "+---+------+---+\n",
      "|  a| Alice| 34|\n",
      "|  b|   Bob| 36|\n",
      "|  e|Esther| 32|\n",
      "+---+------+---+\n",
      "\n",
      "+---+---+------------+\n",
      "|src|dst|relationship|\n",
      "+---+---+------------+\n",
      "|  a|  b|      friend|\n",
      "|  a|  e|      friend|\n",
      "+---+---+------------+\n",
      "\n"
     ]
    }
   ],
   "source": [
    "# Select subgraph of users older than 30, and relationships of type \"friend\".\n",
    "# Drop isolated vertices (users) which are not contained in any edges (relationships).\n",
    "\n",
    "g1 = g.filterVertices(\"age > 30\").filterEdges(\"relationship = 'friend'\") \\\n",
    "      .dropIsolatedVertices()\n",
    "\n",
    "g1.vertices.show()\n",
    "g1.edges.show()"
   ]
  },
  {
   "cell_type": "code",
   "execution_count": 101,
   "id": "39d4c104",
   "metadata": {
    "scrolled": true
   },
   "outputs": [
    {
     "name": "stdout",
     "output_type": "stream",
     "text": [
      "+---------------+--------------+----------------+\n",
      "|              a|             e|               b|\n",
      "+---------------+--------------+----------------+\n",
      "|   {b, Bob, 36}|{b, c, follow}|{c, Charlie, 37}|\n",
      "|{e, Esther, 32}|{e, f, follow}|  {f, Fanny, 38}|\n",
      "+---------------+--------------+----------------+\n",
      "\n",
      "+---+---+------------+\n",
      "|src|dst|relationship|\n",
      "+---+---+------------+\n",
      "|  b|  c|      follow|\n",
      "|  e|  f|      follow|\n",
      "+---+---+------------+\n",
      "\n",
      "+---+-------+---+\n",
      "| id|   name|age|\n",
      "+---+-------+---+\n",
      "|  b|    Bob| 36|\n",
      "|  c|Charlie| 37|\n",
      "|  e| Esther| 32|\n",
      "|  f|  Fanny| 38|\n",
      "+---+-------+---+\n",
      "\n",
      "+---+---+------------+\n",
      "|src|dst|relationship|\n",
      "+---+---+------------+\n",
      "|  b|  c|      follow|\n",
      "|  e|  f|      follow|\n",
      "+---+---+------------+\n",
      "\n"
     ]
    }
   ],
   "source": [
    "# Select subgraph based on edges \"e\" of type \"follow\"\n",
    "# pointing from a younger user \"a\" to an older user \"b\".\n",
    "\n",
    "paths = g.find(\"(a)-[e]->(b)\")\\\n",
    "  .filter(\"e.relationship = 'follow'\")\\\n",
    "  .filter(\"a.age < b.age\")\n",
    "\n",
    "paths.show()\n",
    "# \"paths\" contains vertex info. Extract the edges.\n",
    "\n",
    "e2 = paths.select(\"e.*\")\n",
    "e2.show()\n",
    "\n",
    "# Construct the subgraph\n",
    "g2 = GraphFrame(g.vertices, e2).dropIsolatedVertices()\n",
    "\n",
    "g2.vertices.show()\n",
    "g2.edges.show()"
   ]
  },
  {
   "cell_type": "markdown",
   "id": "29ae87c4",
   "metadata": {},
   "source": [
    "### BFS"
   ]
  },
  {
   "cell_type": "code",
   "execution_count": 102,
   "id": "96501f06",
   "metadata": {},
   "outputs": [
    {
     "name": "stdout",
     "output_type": "stream",
     "text": [
      "24/05/19 22:11:33 WARN CacheManager: Asked to cache already cached data.\n",
      "24/05/19 22:11:33 WARN CacheManager: Asked to cache already cached data.\n"
     ]
    },
    {
     "name": "stderr",
     "output_type": "stream",
     "text": [
      "                                                                                \r"
     ]
    },
    {
     "name": "stdout",
     "output_type": "stream",
     "text": [
      "24/05/19 22:11:34 WARN CacheManager: Asked to cache already cached data.\n",
      "24/05/19 22:11:34 WARN CacheManager: Asked to cache already cached data.\n"
     ]
    },
    {
     "name": "stderr",
     "output_type": "stream",
     "text": [
      "                                                                                \r"
     ]
    },
    {
     "name": "stdout",
     "output_type": "stream",
     "text": [
      "24/05/19 22:11:35 WARN CacheManager: Asked to cache already cached data.\n",
      "24/05/19 22:11:35 WARN CacheManager: Asked to cache already cached data.\n"
     ]
    },
    {
     "name": "stderr",
     "output_type": "stream",
     "text": [
      "                                                                                \r"
     ]
    }
   ],
   "source": [
    "# Starting vertex is 'a'\n",
    "layers = [g.vertices.select('id').where(\"id = 'a'\")]\n",
    "visited =  layers[0]\n",
    "\n",
    "while layers[-1].count() > 0:\n",
    "    # From the current layer, get all the one-hop neighbors\n",
    "    d1 = layers[-1].join(g.edges, layers[-1]['id'] == g.edges['src'])\n",
    "    # Rename the column as 'id', and remove visited verices and duplicates\n",
    "    d2 = d1.select(d1['dst'].alias('id')) \\\n",
    "           .subtract(visited).distinct().cache()\n",
    "    layers += [d2]\n",
    "    visited = visited.union(layers[-1]).cache()"
   ]
  },
  {
   "cell_type": "code",
   "execution_count": 103,
   "id": "02d0f308",
   "metadata": {},
   "outputs": [
    {
     "name": "stdout",
     "output_type": "stream",
     "text": [
      "+---+\n",
      "| id|\n",
      "+---+\n",
      "|  a|\n",
      "+---+\n",
      "\n"
     ]
    }
   ],
   "source": [
    "layers[0].show()"
   ]
  },
  {
   "cell_type": "code",
   "execution_count": 104,
   "id": "8350dd0b",
   "metadata": {},
   "outputs": [
    {
     "name": "stdout",
     "output_type": "stream",
     "text": [
      "+---+\n",
      "| id|\n",
      "+---+\n",
      "|  e|\n",
      "|  b|\n",
      "+---+\n",
      "\n"
     ]
    }
   ],
   "source": [
    "layers[1].show()"
   ]
  },
  {
   "cell_type": "code",
   "execution_count": 105,
   "id": "537ad828",
   "metadata": {},
   "outputs": [
    {
     "name": "stdout",
     "output_type": "stream",
     "text": [
      "+---+\n",
      "| id|\n",
      "+---+\n",
      "|  f|\n",
      "|  d|\n",
      "|  c|\n",
      "+---+\n",
      "\n"
     ]
    }
   ],
   "source": [
    "layers[2].show()"
   ]
  },
  {
   "cell_type": "code",
   "execution_count": 106,
   "id": "be25e9a1",
   "metadata": {},
   "outputs": [
    {
     "name": "stdout",
     "output_type": "stream",
     "text": [
      "+---+\n",
      "| id|\n",
      "+---+\n",
      "+---+\n",
      "\n"
     ]
    }
   ],
   "source": [
    "layers[3].show()"
   ]
  },
  {
   "cell_type": "code",
   "execution_count": 107,
   "id": "a6050d33",
   "metadata": {},
   "outputs": [
    {
     "name": "stdout",
     "output_type": "stream",
     "text": [
      "+--------------+--------------+---------------+--------------+--------------+\n",
      "|          from|            e0|             v1|            e1|            to|\n",
      "+--------------+--------------+---------------+--------------+--------------+\n",
      "|{a, Alice, 34}|{a, e, friend}|{e, Esther, 32}|{e, f, follow}|{f, Fanny, 38}|\n",
      "+--------------+--------------+---------------+--------------+--------------+\n",
      "\n"
     ]
    }
   ],
   "source": [
    "# GraphFrames provides own BFS:\n",
    "\n",
    "paths = g.bfs(\"id = 'a'\", \"id='f'\")\n",
    "paths.show()"
   ]
  },
  {
   "cell_type": "markdown",
   "id": "779d35a2",
   "metadata": {},
   "source": [
    "### List Ranking"
   ]
  },
  {
   "cell_type": "code",
   "execution_count": 108,
   "id": "a8105193",
   "metadata": {},
   "outputs": [
    {
     "name": "stdout",
     "output_type": "stream",
     "text": [
      "+---+---+\n",
      "| id|  d|\n",
      "+---+---+\n",
      "|  0|  1|\n",
      "|  1|  1|\n",
      "|  3|  1|\n",
      "|  4|  1|\n",
      "|  5|  0|\n",
      "|  6|  1|\n",
      "| -1|  0|\n",
      "+---+---+\n",
      "\n",
      "+---+---+\n",
      "|src|dst|\n",
      "+---+---+\n",
      "|  0|  5|\n",
      "|  1|  0|\n",
      "|  3|  4|\n",
      "|  4|  6|\n",
      "|  5| -1|\n",
      "|  6|  1|\n",
      "+---+---+\n",
      "\n"
     ]
    }
   ],
   "source": [
    "# -1 denotes end of list\n",
    "data = [(0, 5), (1, 0), (3, 4), (4, 6), (5, -1), (6,1)]\n",
    "e = spark.createDataFrame(data, ['src', 'dst'])\n",
    "v = e.select(col('src').alias('id'), when(e.dst == -1, 0).otherwise(1).alias('d'))\n",
    "v1 = spark.createDataFrame([(-1, 0)], ['id', 'd'])\n",
    "v = v.union(v1)\n",
    "v.show()\n",
    "e.show()"
   ]
  },
  {
   "cell_type": "code",
   "execution_count": 109,
   "id": "9070091d",
   "metadata": {},
   "outputs": [
    {
     "name": "stderr",
     "output_type": "stream",
     "text": [
      "\r",
      "[Stage 1303:=========>                                             (2 + 6) / 12]\r",
      "\r",
      "                                                                                \r"
     ]
    },
    {
     "name": "stdout",
     "output_type": "stream",
     "text": [
      "+---+---+\n",
      "|src|dst|\n",
      "+---+---+\n",
      "|  0| -1|\n",
      "|  6|  0|\n",
      "|  4|  1|\n",
      "|  1|  5|\n",
      "|  3|  6|\n",
      "|  5| -1|\n",
      "+---+---+\n",
      "\n"
     ]
    },
    {
     "name": "stderr",
     "output_type": "stream",
     "text": [
      "                                                                                \r"
     ]
    },
    {
     "name": "stdout",
     "output_type": "stream",
     "text": [
      "+---+---+\n",
      "|src|dst|\n",
      "+---+---+\n",
      "|  6| -1|\n",
      "|  1| -1|\n",
      "|  3|  0|\n",
      "|  4|  5|\n",
      "|  0| -1|\n",
      "|  5| -1|\n",
      "+---+---+\n",
      "\n"
     ]
    },
    {
     "name": "stderr",
     "output_type": "stream",
     "text": [
      "                                                                                ]\r"
     ]
    },
    {
     "name": "stdout",
     "output_type": "stream",
     "text": [
      "+---+---+\n",
      "|src|dst|\n",
      "+---+---+\n",
      "|  3| -1|\n",
      "|  4| -1|\n",
      "|  6| -1|\n",
      "|  1| -1|\n",
      "|  0| -1|\n",
      "|  5| -1|\n",
      "+---+---+\n",
      "\n"
     ]
    },
    {
     "name": "stderr",
     "output_type": "stream",
     "text": [
      "                                                                                \r"
     ]
    },
    {
     "name": "stdout",
     "output_type": "stream",
     "text": [
      "+---+---+\n",
      "| id|  d|\n",
      "+---+---+\n",
      "|  1|  2|\n",
      "|  4|  4|\n",
      "|  0|  1|\n",
      "|  6|  3|\n",
      "|  3|  5|\n",
      "|  5|  0|\n",
      "| -1|  0|\n",
      "+---+---+\n",
      "\n"
     ]
    }
   ],
   "source": [
    "while e.filter('dst != -1').count() > 0:\n",
    "    g = GraphFrame(v, e)\n",
    "    g.cache()\n",
    "    v = g.triplets.select(col('src.id').alias('id'), \n",
    "                          (col('src.d') + col('dst.d')).alias('d')) \\\n",
    "         .union(v1)\n",
    "    e = g.find('(a)-[]->(b); (b)-[]->(c)') \\\n",
    "         .select(col('a.id').alias('src'), col('c.id').alias('dst')) \\\n",
    "         .union(e.filter('dst = -1'))\n",
    "    e.show()\n",
    "v.show()"
   ]
  },
  {
   "cell_type": "markdown",
   "id": "2488f623",
   "metadata": {},
   "source": [
    "### Message passing via AggregateMessages"
   ]
  },
  {
   "cell_type": "code",
   "execution_count": 111,
   "id": "18e0129d",
   "metadata": {},
   "outputs": [
    {
     "ename": "AnalysisException",
     "evalue": "No such struct field age in id, d",
     "output_type": "error",
     "traceback": [
      "\u001b[0;31m---------------------------------------------------------------------------\u001b[0m",
      "\u001b[0;31mAnalysisException\u001b[0m                         Traceback (most recent call last)",
      "\u001b[0;32m/tmp/ipykernel_20921/2931788667.py\u001b[0m in \u001b[0;36m<module>\u001b[0;34m\u001b[0m\n\u001b[1;32m      4\u001b[0m \u001b[0;31m# AggregateMessages has the following members: src, dst, edge, msg\u001b[0m\u001b[0;34m\u001b[0m\u001b[0;34m\u001b[0m\u001b[0m\n\u001b[1;32m      5\u001b[0m \u001b[0;31m# For each user, sum the ages of the adjacent users.\u001b[0m\u001b[0;34m\u001b[0m\u001b[0;34m\u001b[0m\u001b[0m\n\u001b[0;32m----> 6\u001b[0;31m agg = g.aggregateMessages(\n\u001b[0m\u001b[1;32m      7\u001b[0m     \u001b[0msum\u001b[0m\u001b[0;34m(\u001b[0m\u001b[0mAM\u001b[0m\u001b[0;34m.\u001b[0m\u001b[0mmsg\u001b[0m\u001b[0;34m)\u001b[0m\u001b[0;34m.\u001b[0m\u001b[0malias\u001b[0m\u001b[0;34m(\u001b[0m\u001b[0;34m\"summedAges\"\u001b[0m\u001b[0;34m)\u001b[0m\u001b[0;34m,\u001b[0m\u001b[0;34m\u001b[0m\u001b[0;34m\u001b[0m\u001b[0m\n\u001b[1;32m      8\u001b[0m \u001b[0;31m#     sendToSrc = AM.dst['age'],\u001b[0m\u001b[0;34m\u001b[0m\u001b[0;34m\u001b[0m\u001b[0m\n",
      "\u001b[0;32m~/Conda/lib/python3.9/site-packages/graphframes/graphframe.py\u001b[0m in \u001b[0;36maggregateMessages\u001b[0;34m(self, aggCol, sendToSrc, sendToDst)\u001b[0m\n\u001b[1;32m    291\u001b[0m                 \u001b[0;32mraise\u001b[0m \u001b[0mTypeError\u001b[0m\u001b[0;34m(\u001b[0m\u001b[0;34m\"Provide message either as `Column` or `str`\"\u001b[0m\u001b[0;34m)\u001b[0m\u001b[0;34m\u001b[0m\u001b[0;34m\u001b[0m\u001b[0m\n\u001b[1;32m    292\u001b[0m         \u001b[0;32mif\u001b[0m \u001b[0misinstance\u001b[0m\u001b[0;34m(\u001b[0m\u001b[0maggCol\u001b[0m\u001b[0;34m,\u001b[0m \u001b[0mColumn\u001b[0m\u001b[0;34m)\u001b[0m\u001b[0;34m:\u001b[0m\u001b[0;34m\u001b[0m\u001b[0;34m\u001b[0m\u001b[0m\n\u001b[0;32m--> 293\u001b[0;31m             \u001b[0mjdf\u001b[0m \u001b[0;34m=\u001b[0m \u001b[0mbuilder\u001b[0m\u001b[0;34m.\u001b[0m\u001b[0magg\u001b[0m\u001b[0;34m(\u001b[0m\u001b[0maggCol\u001b[0m\u001b[0;34m.\u001b[0m\u001b[0m_jc\u001b[0m\u001b[0;34m)\u001b[0m\u001b[0;34m\u001b[0m\u001b[0;34m\u001b[0m\u001b[0m\n\u001b[0m\u001b[1;32m    294\u001b[0m         \u001b[0;32melse\u001b[0m\u001b[0;34m:\u001b[0m\u001b[0;34m\u001b[0m\u001b[0;34m\u001b[0m\u001b[0m\n\u001b[1;32m    295\u001b[0m             \u001b[0mjdf\u001b[0m \u001b[0;34m=\u001b[0m \u001b[0mbuilder\u001b[0m\u001b[0;34m.\u001b[0m\u001b[0magg\u001b[0m\u001b[0;34m(\u001b[0m\u001b[0maggCol\u001b[0m\u001b[0;34m)\u001b[0m\u001b[0;34m\u001b[0m\u001b[0;34m\u001b[0m\u001b[0m\n",
      "\u001b[0;32m~/Conda/lib/python3.9/site-packages/py4j/java_gateway.py\u001b[0m in \u001b[0;36m__call__\u001b[0;34m(self, *args)\u001b[0m\n\u001b[1;32m   1320\u001b[0m \u001b[0;34m\u001b[0m\u001b[0m\n\u001b[1;32m   1321\u001b[0m         \u001b[0manswer\u001b[0m \u001b[0;34m=\u001b[0m \u001b[0mself\u001b[0m\u001b[0;34m.\u001b[0m\u001b[0mgateway_client\u001b[0m\u001b[0;34m.\u001b[0m\u001b[0msend_command\u001b[0m\u001b[0;34m(\u001b[0m\u001b[0mcommand\u001b[0m\u001b[0;34m)\u001b[0m\u001b[0;34m\u001b[0m\u001b[0;34m\u001b[0m\u001b[0m\n\u001b[0;32m-> 1322\u001b[0;31m         return_value = get_return_value(\n\u001b[0m\u001b[1;32m   1323\u001b[0m             answer, self.gateway_client, self.target_id, self.name)\n\u001b[1;32m   1324\u001b[0m \u001b[0;34m\u001b[0m\u001b[0m\n",
      "\u001b[0;32m~/spark-3.3.2-bin-hadoop3/python/pyspark/sql/utils.py\u001b[0m in \u001b[0;36mdeco\u001b[0;34m(*a, **kw)\u001b[0m\n\u001b[1;32m    194\u001b[0m                 \u001b[0;31m# Hide where the exception came from that shows a non-Pythonic\u001b[0m\u001b[0;34m\u001b[0m\u001b[0;34m\u001b[0m\u001b[0m\n\u001b[1;32m    195\u001b[0m                 \u001b[0;31m# JVM exception message.\u001b[0m\u001b[0;34m\u001b[0m\u001b[0;34m\u001b[0m\u001b[0m\n\u001b[0;32m--> 196\u001b[0;31m                 \u001b[0;32mraise\u001b[0m \u001b[0mconverted\u001b[0m \u001b[0;32mfrom\u001b[0m \u001b[0;32mNone\u001b[0m\u001b[0;34m\u001b[0m\u001b[0;34m\u001b[0m\u001b[0m\n\u001b[0m\u001b[1;32m    197\u001b[0m             \u001b[0;32melse\u001b[0m\u001b[0;34m:\u001b[0m\u001b[0;34m\u001b[0m\u001b[0;34m\u001b[0m\u001b[0m\n\u001b[1;32m    198\u001b[0m                 \u001b[0;32mraise\u001b[0m\u001b[0;34m\u001b[0m\u001b[0;34m\u001b[0m\u001b[0m\n",
      "\u001b[0;31mAnalysisException\u001b[0m: No such struct field age in id, d"
     ]
    }
   ],
   "source": [
    "from pyspark.sql.functions import coalesce, col, lit, sum, when, min, max\n",
    "from graphframes.lib import AggregateMessages as AM\n",
    "\n",
    "# AggregateMessages has the following members: src, dst, edge, msg\n",
    "# For each user, sum the ages of the adjacent users.\n",
    "agg = g.aggregateMessages(\n",
    "    sum(AM.msg).alias(\"summedAges\"),\n",
    "#     sendToSrc = AM.dst['age'],\n",
    "    sendToDst = AM.src['age']\n",
    ")\n",
    "agg.show()"
   ]
  },
  {
   "cell_type": "markdown",
   "id": "e12c798d",
   "metadata": {
    "collapsed": true
   },
   "source": [
    "### The Pregel Model for Graph Computation"
   ]
  },
  {
   "cell_type": "code",
   "execution_count": 56,
   "id": "f16c52e0",
   "metadata": {},
   "outputs": [
    {
     "ename": "ModuleNotFoundError",
     "evalue": "No module named 'graphframes.lib.Pregel'",
     "output_type": "error",
     "traceback": [
      "\u001b[0;31m---------------------------------------------------------------------------\u001b[0m",
      "\u001b[0;31mModuleNotFoundError\u001b[0m                       Traceback (most recent call last)",
      "\u001b[0;32m/tmp/ipykernel_20921/1801722604.py\u001b[0m in \u001b[0;36m<module>\u001b[0;34m\u001b[0m\n\u001b[1;32m      3\u001b[0m \u001b[0;32mfrom\u001b[0m \u001b[0mpyspark\u001b[0m\u001b[0;34m.\u001b[0m\u001b[0msql\u001b[0m\u001b[0;34m.\u001b[0m\u001b[0mfunctions\u001b[0m \u001b[0;32mimport\u001b[0m \u001b[0mcoalesce\u001b[0m\u001b[0;34m,\u001b[0m \u001b[0mcol\u001b[0m\u001b[0;34m,\u001b[0m \u001b[0mlit\u001b[0m\u001b[0;34m,\u001b[0m \u001b[0msum\u001b[0m\u001b[0;34m,\u001b[0m \u001b[0mwhen\u001b[0m\u001b[0;34m,\u001b[0m \u001b[0mmin\u001b[0m\u001b[0;34m\u001b[0m\u001b[0;34m\u001b[0m\u001b[0m\n\u001b[1;32m      4\u001b[0m \u001b[0;32mimport\u001b[0m \u001b[0mgraphframes\u001b[0m\u001b[0;34m.\u001b[0m\u001b[0mlib\u001b[0m\u001b[0;34m\u001b[0m\u001b[0;34m\u001b[0m\u001b[0m\n\u001b[0;32m----> 5\u001b[0;31m \u001b[0;32mimport\u001b[0m \u001b[0mgraphframes\u001b[0m\u001b[0;34m.\u001b[0m\u001b[0mlib\u001b[0m\u001b[0;34m.\u001b[0m\u001b[0mPregel\u001b[0m\u001b[0;34m\u001b[0m\u001b[0;34m\u001b[0m\u001b[0m\n\u001b[0m\u001b[1;32m      6\u001b[0m \u001b[0;32mfrom\u001b[0m \u001b[0mgraphframes\u001b[0m\u001b[0;34m.\u001b[0m\u001b[0mlib\u001b[0m \u001b[0;32mimport\u001b[0m \u001b[0mPregel\u001b[0m\u001b[0;34m\u001b[0m\u001b[0;34m\u001b[0m\u001b[0m\n\u001b[1;32m      7\u001b[0m \u001b[0;34m\u001b[0m\u001b[0m\n",
      "\u001b[0;31mModuleNotFoundError\u001b[0m: No module named 'graphframes.lib.Pregel'"
     ]
    }
   ],
   "source": [
    "# Pagerank in the Pregel model \n",
    "\n",
    "from pyspark.sql.functions import coalesce, col, lit, sum, when, min\n",
    "from graphframes.lib import Pregel\n",
    "\n",
    "# Need to set up a directory for Pregel computation\n",
    "sc.setCheckpointDir(\"checkpoint\")\n",
    "\n",
    "'''\n",
    "Use builder pattern to describe the operations.\n",
    "Call run() to start a run. It returns a DataFrame of vertices from the last iteration.\n",
    "\n",
    "When a run starts, it expands the vertices DataFrame using column expressions \n",
    "defined by withVertexColumn(). Those additional vertex properties can be \n",
    "changed during Pregel iterations. In each Pregel iteration, there are three \n",
    "phases:\n",
    "\n",
    "* Given each edge triplet, generate messages and specify target vertices to \n",
    "  send, described by sendMsgToDst() and sendMsgToSrc().\n",
    "* Aggregate messages by target vertex IDs, described by aggMsgs().\n",
    "* Update additional vertex properties based on aggregated messages and states \n",
    "  from previous iteration, described by withVertexColumn().\n",
    "'''\n",
    "v = g.outDegrees\n",
    "g = GraphFrame(v,e)\n",
    "ranks = g.pregel \\\n",
    "        .setMaxIter(5) \\\n",
    "        .withVertexColumn(\"rank\", lit(1.0), \\\n",
    "            coalesce(Pregel.msg(), lit(0.0)) * lit(0.85) + lit(0.15)) \\\n",
    "        .sendMsgToDst(Pregel.src(\"rank\") / Pregel.src(\"outDegree\")) \\\n",
    "        .aggMsgs(sum(Pregel.msg())) \\\n",
    "        .run()\n",
    "ranks.show()\n",
    "\n",
    "# pyspark.sql.functions.coalesce(*cols): Returns the first column that is not null.\n",
    "# Not to be confused with spark.sql.coalesce(numPartitions)\n"
   ]
  },
  {
   "cell_type": "code",
   "execution_count": 54,
   "id": "e8e8fffe",
   "metadata": {},
   "outputs": [
    {
     "ename": "AttributeError",
     "evalue": "'GraphFrame' object has no attribute 'pregel'",
     "output_type": "error",
     "traceback": [
      "\u001b[0;31m---------------------------------------------------------------------------\u001b[0m",
      "\u001b[0;31mAttributeError\u001b[0m                            Traceback (most recent call last)",
      "\u001b[0;32m/tmp/ipykernel_20921/1337265045.py\u001b[0m in \u001b[0;36m<module>\u001b[0;34m\u001b[0m\n\u001b[1;32m      3\u001b[0m \u001b[0mg\u001b[0m \u001b[0;34m=\u001b[0m \u001b[0mGraphFrame\u001b[0m\u001b[0;34m(\u001b[0m\u001b[0mv\u001b[0m\u001b[0;34m,\u001b[0m\u001b[0me\u001b[0m\u001b[0;34m)\u001b[0m\u001b[0;34m\u001b[0m\u001b[0;34m\u001b[0m\u001b[0m\n\u001b[1;32m      4\u001b[0m \u001b[0;34m\u001b[0m\u001b[0m\n\u001b[0;32m----> 5\u001b[0;31m \u001b[0mdist\u001b[0m \u001b[0;34m=\u001b[0m \u001b[0mg\u001b[0m\u001b[0;34m.\u001b[0m\u001b[0mpregel\u001b[0m\u001b[0;31m \u001b[0m\u001b[0;31m\\\u001b[0m\u001b[0;34m\u001b[0m\u001b[0;34m\u001b[0m\u001b[0m\n\u001b[0m\u001b[1;32m      6\u001b[0m         .withVertexColumn('d', when(v['id'] == 'a', 0).otherwise(99999), \\\n\u001b[1;32m      7\u001b[0m             when(Pregel.msg() < col('d'), Pregel.msg()).otherwise(col('d'))) \\\n",
      "\u001b[0;31mAttributeError\u001b[0m: 'GraphFrame' object has no attribute 'pregel'"
     ]
    }
   ],
   "source": [
    "# BFS in the Pregel model\n",
    "\n",
    "g = GraphFrame(v,e)\n",
    "\n",
    "dist = g.pregel \\\n",
    "        .withVertexColumn('d', when(v['id'] == 'a', 0).otherwise(99999), \\\n",
    "            when(Pregel.msg() < col('d'), Pregel.msg()).otherwise(col('d'))) \\\n",
    "        .withVertexColumn('active', when(v['id'] == 'a', True).otherwise(False), \\\n",
    "            when(Pregel.msg() < col('d'), True).otherwise(False)) \\\n",
    "        .sendMsgToDst(when(Pregel.src('active'), Pregel.src('d') + 1)) \\\n",
    "        .aggMsgs(min(Pregel.msg())) \\\n",
    "        .run()\n",
    "dist.show()\n"
   ]
  },
  {
   "cell_type": "code",
   "execution_count": null,
   "id": "748b4444",
   "metadata": {},
   "outputs": [],
   "source": []
  }
 ],
 "metadata": {
  "kernelspec": {
   "display_name": "Python 3 (ipykernel)",
   "language": "python",
   "name": "python3"
  },
  "language_info": {
   "codemirror_mode": {
    "name": "ipython",
    "version": 3
   },
   "file_extension": ".py",
   "mimetype": "text/x-python",
   "name": "python",
   "nbconvert_exporter": "python",
   "pygments_lexer": "ipython3",
   "version": "3.9.13"
  }
 },
 "nbformat": 4,
 "nbformat_minor": 5
}
